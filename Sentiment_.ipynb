{
 "cells": [
  {
   "cell_type": "code",
   "execution_count": 1,
   "id": "eb504d16-6f9c-47bd-9d52-986ab9e88a46",
   "metadata": {},
   "outputs": [],
   "source": [
    "import numpy as np\n",
    "import pandas as pd\n",
    "import matplotlib.pyplot as plt\n",
    "import seaborn as sns\n",
    "\n",
    "from textblob import TextBlob\n",
    "from sklearn import model_selection, preprocessing, linear_model, naive_bayes, metrics\n",
    "from sklearn.feature_extraction.text import TfidfVectorizer\n",
    "from sklearn import decomposition, ensemble\n",
    "import xgboost\n",
    "\n",
    "from sklearn.linear_model import LogisticRegression\n",
    "from sklearn.svm import SVR\n",
    "from sklearn.model_selection import train_test_split\n",
    "from sklearn.metrics import accuracy_score,precision_score,recall_score,f1_score\n",
    "\n",
    "\n",
    "\n",
    "from warnings import filterwarnings\n",
    "filterwarnings('ignore')\n"
   ]
  },
  {
   "cell_type": "code",
   "execution_count": 2,
   "id": "d6946fe5-eec8-40d3-bbb4-af3f04295e73",
   "metadata": {
    "tags": []
   },
   "outputs": [
    {
     "name": "stdout",
     "output_type": "stream",
     "text": [
      "(50000, 2)\n"
     ]
    },
    {
     "data": {
      "text/html": [
       "<div>\n",
       "<style scoped>\n",
       "    .dataframe tbody tr th:only-of-type {\n",
       "        vertical-align: middle;\n",
       "    }\n",
       "\n",
       "    .dataframe tbody tr th {\n",
       "        vertical-align: top;\n",
       "    }\n",
       "\n",
       "    .dataframe thead th {\n",
       "        text-align: right;\n",
       "    }\n",
       "</style>\n",
       "<table border=\"1\" class=\"dataframe\">\n",
       "  <thead>\n",
       "    <tr style=\"text-align: right;\">\n",
       "      <th></th>\n",
       "      <th>review</th>\n",
       "      <th>sentiment</th>\n",
       "    </tr>\n",
       "  </thead>\n",
       "  <tbody>\n",
       "    <tr>\n",
       "      <th>0</th>\n",
       "      <td>One of the other reviewers has mentioned that ...</td>\n",
       "      <td>positive</td>\n",
       "    </tr>\n",
       "    <tr>\n",
       "      <th>1</th>\n",
       "      <td>A wonderful little production. &lt;br /&gt;&lt;br /&gt;The...</td>\n",
       "      <td>positive</td>\n",
       "    </tr>\n",
       "    <tr>\n",
       "      <th>2</th>\n",
       "      <td>I thought this was a wonderful way to spend ti...</td>\n",
       "      <td>positive</td>\n",
       "    </tr>\n",
       "    <tr>\n",
       "      <th>3</th>\n",
       "      <td>Basically there's a family where a little boy ...</td>\n",
       "      <td>negative</td>\n",
       "    </tr>\n",
       "    <tr>\n",
       "      <th>4</th>\n",
       "      <td>Petter Mattei's \"Love in the Time of Money\" is...</td>\n",
       "      <td>positive</td>\n",
       "    </tr>\n",
       "    <tr>\n",
       "      <th>5</th>\n",
       "      <td>Probably my all-time favorite movie, a story o...</td>\n",
       "      <td>positive</td>\n",
       "    </tr>\n",
       "    <tr>\n",
       "      <th>6</th>\n",
       "      <td>I sure would like to see a resurrection of a u...</td>\n",
       "      <td>positive</td>\n",
       "    </tr>\n",
       "    <tr>\n",
       "      <th>7</th>\n",
       "      <td>This show was an amazing, fresh &amp; innovative i...</td>\n",
       "      <td>negative</td>\n",
       "    </tr>\n",
       "    <tr>\n",
       "      <th>8</th>\n",
       "      <td>Encouraged by the positive comments about this...</td>\n",
       "      <td>negative</td>\n",
       "    </tr>\n",
       "    <tr>\n",
       "      <th>9</th>\n",
       "      <td>If you like original gut wrenching laughter yo...</td>\n",
       "      <td>positive</td>\n",
       "    </tr>\n",
       "  </tbody>\n",
       "</table>\n",
       "</div>"
      ],
      "text/plain": [
       "                                              review sentiment\n",
       "0  One of the other reviewers has mentioned that ...  positive\n",
       "1  A wonderful little production. <br /><br />The...  positive\n",
       "2  I thought this was a wonderful way to spend ti...  positive\n",
       "3  Basically there's a family where a little boy ...  negative\n",
       "4  Petter Mattei's \"Love in the Time of Money\" is...  positive\n",
       "5  Probably my all-time favorite movie, a story o...  positive\n",
       "6  I sure would like to see a resurrection of a u...  positive\n",
       "7  This show was an amazing, fresh & innovative i...  negative\n",
       "8  Encouraged by the positive comments about this...  negative\n",
       "9  If you like original gut wrenching laughter yo...  positive"
      ]
     },
     "execution_count": 2,
     "metadata": {},
     "output_type": "execute_result"
    }
   ],
   "source": [
    "dataset = pd.read_csv(\"IMDB Dataset.csv\")\n",
    "print(dataset.shape)\n",
    "dataset.head(10)"
   ]
  },
  {
   "cell_type": "code",
   "execution_count": 3,
   "id": "fff435aa-adeb-472f-b490-42fe52f09be9",
   "metadata": {},
   "outputs": [
    {
     "data": {
      "text/plain": [
       "'A wonderful little production. <br /><br />The filming technique is very unassuming- very old-time-BBC fashion and gives a comforting, and sometimes discomforting, sense of realism to the entire piece. <br /><br />The actors are extremely well chosen- Michael Sheen not only \"has got all the polari\" but he has all the voices down pat too! You can truly see the seamless editing guided by the references to Williams\\' diary entries, not only is it well worth the watching but it is a terrificly written and performed piece. A masterful production about one of the great master\\'s of comedy and his life. <br /><br />The realism really comes home with the little things: the fantasy of the guard which, rather than use the traditional \\'dream\\' techniques remains solid then disappears. It plays on our knowledge and our senses, particularly with the scenes concerning Orton and Halliwell and the sets (particularly of their flat with Halliwell\\'s murals decorating every surface) are terribly well done.'"
      ]
     },
     "execution_count": 3,
     "metadata": {},
     "output_type": "execute_result"
    }
   ],
   "source": [
    "dataset[\"review\"][1]"
   ]
  },
  {
   "cell_type": "code",
   "execution_count": 4,
   "id": "a4f8c736-fd1a-4635-8b8a-c65a8f344cab",
   "metadata": {},
   "outputs": [
    {
     "data": {
      "text/plain": [
       "<function matplotlib.pyplot.show(close=None, block=None)>"
      ]
     },
     "execution_count": 4,
     "metadata": {},
     "output_type": "execute_result"
    },
    {
     "data": {
      "image/png": "[encoded data removed]",
      "text/plain": [
       "<Figure size 432x288 with 1 Axes>"
      ]
     },
     "metadata": {
      "needs_background": "light"
     },
     "output_type": "display_data"
    }
   ],
   "source": [
    "\n",
    "plt.title('Reviews')\n",
    "plt.xlabel('sentiment')\n",
    "plt.ylabel('Counts')\n",
    "\n",
    "dataset[\"sentiment\"].value_counts().plot(kind = 'bar')\n",
    "plt.show\n"
   ]
  },
  {
   "cell_type": "code",
   "execution_count": null,
   "id": "a813c005-124a-4fa4-bed9-5bf8a19f864b",
   "metadata": {},
   "outputs": [],
   "source": []
  },
  {
   "cell_type": "code",
   "execution_count": 5,
   "id": "da1ac356-569f-4109-925b-dfda77cc77cb",
   "metadata": {},
   "outputs": [
    {
     "data": {
      "text/html": [
       "<div>\n",
       "<style scoped>\n",
       "    .dataframe tbody tr th:only-of-type {\n",
       "        vertical-align: middle;\n",
       "    }\n",
       "\n",
       "    .dataframe tbody tr th {\n",
       "        vertical-align: top;\n",
       "    }\n",
       "\n",
       "    .dataframe thead th {\n",
       "        text-align: right;\n",
       "    }\n",
       "</style>\n",
       "<table border=\"1\" class=\"dataframe\">\n",
       "  <thead>\n",
       "    <tr style=\"text-align: right;\">\n",
       "      <th></th>\n",
       "      <th>review</th>\n",
       "      <th>sentiment</th>\n",
       "    </tr>\n",
       "  </thead>\n",
       "  <tbody>\n",
       "    <tr>\n",
       "      <th>0</th>\n",
       "      <td>One of the other reviewers has mentioned that ...</td>\n",
       "      <td>positive</td>\n",
       "    </tr>\n",
       "    <tr>\n",
       "      <th>1</th>\n",
       "      <td>A wonderful little production. &lt;br /&gt;&lt;br /&gt;The...</td>\n",
       "      <td>positive</td>\n",
       "    </tr>\n",
       "    <tr>\n",
       "      <th>2</th>\n",
       "      <td>I thought this was a wonderful way to spend ti...</td>\n",
       "      <td>positive</td>\n",
       "    </tr>\n",
       "    <tr>\n",
       "      <th>3</th>\n",
       "      <td>Basically there's a family where a little boy ...</td>\n",
       "      <td>negative</td>\n",
       "    </tr>\n",
       "    <tr>\n",
       "      <th>4</th>\n",
       "      <td>Petter Mattei's \"Love in the Time of Money\" is...</td>\n",
       "      <td>positive</td>\n",
       "    </tr>\n",
       "  </tbody>\n",
       "</table>\n",
       "</div>"
      ],
      "text/plain": [
       "                                              review sentiment\n",
       "0  One of the other reviewers has mentioned that ...  positive\n",
       "1  A wonderful little production. <br /><br />The...  positive\n",
       "2  I thought this was a wonderful way to spend ti...  positive\n",
       "3  Basically there's a family where a little boy ...  negative\n",
       "4  Petter Mattei's \"Love in the Time of Money\" is...  positive"
      ]
     },
     "execution_count": 5,
     "metadata": {},
     "output_type": "execute_result"
    }
   ],
   "source": [
    "\n",
    "df = dataset.copy()\n",
    "df.head(5)"
   ]
  },
  {
   "cell_type": "code",
   "execution_count": 6,
   "id": "72ccd6a6-2bd7-4dec-8243-89c7989c0da5",
   "metadata": {},
   "outputs": [
    {
     "data": {
      "text/html": [
       "<div>\n",
       "<style scoped>\n",
       "    .dataframe tbody tr th:only-of-type {\n",
       "        vertical-align: middle;\n",
       "    }\n",
       "\n",
       "    .dataframe tbody tr th {\n",
       "        vertical-align: top;\n",
       "    }\n",
       "\n",
       "    .dataframe thead th {\n",
       "        text-align: right;\n",
       "    }\n",
       "</style>\n",
       "<table border=\"1\" class=\"dataframe\">\n",
       "  <thead>\n",
       "    <tr style=\"text-align: right;\">\n",
       "      <th></th>\n",
       "      <th>review</th>\n",
       "      <th>sentiment</th>\n",
       "      <th>word_count</th>\n",
       "      <th>number_count</th>\n",
       "    </tr>\n",
       "  </thead>\n",
       "  <tbody>\n",
       "    <tr>\n",
       "      <th>0</th>\n",
       "      <td>One of the other reviewers has mentioned that ...</td>\n",
       "      <td>positive</td>\n",
       "      <td>307</td>\n",
       "      <td>1</td>\n",
       "    </tr>\n",
       "    <tr>\n",
       "      <th>1</th>\n",
       "      <td>A wonderful little production. &lt;br /&gt;&lt;br /&gt;The...</td>\n",
       "      <td>positive</td>\n",
       "      <td>162</td>\n",
       "      <td>0</td>\n",
       "    </tr>\n",
       "    <tr>\n",
       "      <th>2</th>\n",
       "      <td>I thought this was a wonderful way to spend ti...</td>\n",
       "      <td>positive</td>\n",
       "      <td>166</td>\n",
       "      <td>0</td>\n",
       "    </tr>\n",
       "  </tbody>\n",
       "</table>\n",
       "</div>"
      ],
      "text/plain": [
       "                                              review sentiment  word_count  \\\n",
       "0  One of the other reviewers has mentioned that ...  positive         307   \n",
       "1  A wonderful little production. <br /><br />The...  positive         162   \n",
       "2  I thought this was a wonderful way to spend ti...  positive         166   \n",
       "\n",
       "   number_count  \n",
       "0             1  \n",
       "1             0  \n",
       "2             0  "
      ]
     },
     "execution_count": 6,
     "metadata": {},
     "output_type": "execute_result"
    }
   ],
   "source": [
    "o_df = dataset.copy()\n",
    "o_df[\"word_count\"] =dataset[\"review\"].apply(lambda x: len(str(x).split(\" \")))\n",
    "o_df[\"number_count\"] = dataset[\"review\"].apply(lambda x: len([x for x in x.split() \n",
    "                                       if x.isdigit()]))\n",
    "\n",
    "o_df.head(3)"
   ]
  },
  {
   "cell_type": "code",
   "execution_count": 7,
   "id": "a97ab177-3c6a-4d59-aba0-c052cc10c979",
   "metadata": {},
   "outputs": [
    {
     "name": "stdout",
     "output_type": "stream",
     "text": [
      " max:  33\n"
     ]
    }
   ],
   "source": [
    "print(\" max: \",o_df[\"number_count\"].max())\n"
   ]
  },
  {
   "cell_type": "code",
   "execution_count": 8,
   "id": "817cb387-3897-4458-bad1-8c7104f2e9af",
   "metadata": {},
   "outputs": [],
   "source": [
    "## büyük - küçük dönüşümü\n",
    "df['review'] = df['review'].apply(lambda x: \" \".join(x.lower() for x in x.split()))\n",
    "# noktalama\n",
    "df[\"review\"] = df[\"review\"].str.replace('[^\\w\\s]','')\n",
    "# sayılar\n",
    "df[\"review\"] = df[\"review\"].str.replace('\\d', '')\n",
    "#stopwords\n",
    "import nltk\n",
    "from nltk.corpus import stopwords\n",
    "sw = stopwords.words('english')\n",
    "df['review'] =df['review'].apply(lambda x: \" \".join(x for x in x.split() if x not in sw))\n",
    "# seyreklerin silinmesi\n",
    "delete = pd.Series(' '.join(df['review']).split()).value_counts()[-1000:]\n"
   ]
  },
  {
   "cell_type": "code",
   "execution_count": 9,
   "id": "df4a95b6-de54-41ff-98cb-c889a3546ae7",
   "metadata": {},
   "outputs": [
    {
     "data": {
      "text/plain": [
       "'Probably my all-time favorite movie, a story of selflessness, sacrifice and dedication to a noble cause, but it\\'s not preachy or boring. It just never gets old, despite my having seen it some 15 or more times in the last 25 years. Paul Lukas\\' performance brings tears to my eyes, and Bette Davis, in one of her very few truly sympathetic roles, is a delight. The kids are, as grandma says, more like \"dressed-up midgets\" than children, but that only makes them more fun to watch. And the mother\\'s slow awakening to what\\'s happening in the world and under her own roof is believable and startling. If I had a dozen thumbs, they\\'d all be \"up\" for this movie.'"
      ]
     },
     "execution_count": 9,
     "metadata": {},
     "output_type": "execute_result"
    }
   ],
   "source": [
    "dataset[\"review\"][5]"
   ]
  },
  {
   "cell_type": "code",
   "execution_count": 10,
   "id": "79b26d7d-83a8-4aca-98e2-bb069c680962",
   "metadata": {},
   "outputs": [
    {
     "data": {
      "text/plain": [
       "'probably alltime favorite movie story selflessness sacrifice dedication noble cause preachy boring never gets old despite seen times last years paul lukas performance brings tears eyes bette davis one truly sympathetic roles delight kids grandma says like dressedup midgets children makes fun watch mothers slow awakening whats happening world roof believable startling dozen thumbs theyd movie'"
      ]
     },
     "execution_count": 10,
     "metadata": {},
     "output_type": "execute_result"
    }
   ],
   "source": [
    "df[\"review\"][5]"
   ]
  },
  {
   "cell_type": "markdown",
   "id": "cb9005b0-8b7a-41e3-b9a0-aba8d2ca4857",
   "metadata": {},
   "source": [
    "### Tokenization"
   ]
  },
  {
   "cell_type": "code",
   "execution_count": 11,
   "id": "18c525be-d755-4cbb-ba36-afa4705d7392",
   "metadata": {},
   "outputs": [],
   "source": [
    "from nltk.tokenize import WordPunctTokenizer\n",
    "tokenizator = WordPunctTokenizer() # split data by dividing characters\n",
    "df[\"Token_review\"] = [tokenizator.tokenize(x.lower()) for x in df['review']]"
   ]
  },
  {
   "cell_type": "markdown",
   "id": "1a82521a-c31d-4473-8116-c5cc51380883",
   "metadata": {},
   "source": [
    "### Normalization"
   ]
  },
  {
   "cell_type": "code",
   "execution_count": 12,
   "id": "99986fbb-5fa0-4a2c-8b73-30aea9c90ea8",
   "metadata": {},
   "outputs": [],
   "source": [
    "from gensim.models import Word2Vec\n",
    "model = Word2Vec(df[\"Token_review\"], vector_size=32, min_count=6, window=5).wv\n",
    "df['review'] = [\" \".join(token) for token in df['Token_review']]\n"
   ]
  },
  {
   "cell_type": "code",
   "execution_count": 13,
   "id": "f245fd39-ecbe-4146-8104-50bada400c7e",
   "metadata": {},
   "outputs": [
    {
     "data": {
      "text/plain": [
       "[('filmmaker', 0.8261909484863281),\n",
       " ('screenwriter', 0.7699681520462036),\n",
       " ('writerdirector', 0.7632554769515991),\n",
       " ('carpenter', 0.755451500415802),\n",
       " ('directors', 0.7434194087982178),\n",
       " ('writer', 0.7410480380058289),\n",
       " ('firsttime', 0.7198154330253601),\n",
       " ('producer', 0.702863872051239),\n",
       " ('editor', 0.6650515198707581),\n",
       " ('directorial', 0.6647442579269409)]"
      ]
     },
     "execution_count": 13,
     "metadata": {},
     "output_type": "execute_result"
    }
   ],
   "source": [
    "model.most_similar(\"director\") "
   ]
  },
  {
   "cell_type": "markdown",
   "id": "8c01ca13-746d-4de2-88aa-74cd93431f42",
   "metadata": {},
   "source": [
    "### stemming"
   ]
  },
  {
   "cell_type": "code",
   "execution_count": 14,
   "id": "512e017a-6067-413a-acfb-aebc5de5e543",
   "metadata": {},
   "outputs": [],
   "source": [
    "\n",
    "from nltk.stem import PorterStemmer\n",
    "st = PorterStemmer()"
   ]
  },
  {
   "cell_type": "code",
   "execution_count": 15,
   "id": "28c7570e-b2d9-43d5-98e0-22c8a28cff35",
   "metadata": {},
   "outputs": [],
   "source": [
    "df[\"review\"] = df[\"review\"].apply(lambda x: \" \".join([st.stem(word) for word in x.split()]))\n"
   ]
  },
  {
   "cell_type": "code",
   "execution_count": 16,
   "id": "f76eb3f0-7a1f-4c87-9d78-cd6abfb2da88",
   "metadata": {},
   "outputs": [
    {
     "data": {
      "text/plain": [
       "'probabl alltim favorit movi stori selfless sacrific dedic nobl caus preachi bore never get old despit seen time last year paul luka perform bring tear eye bett davi one truli sympathet role delight kid grandma say like dressedup midget children make fun watch mother slow awaken what happen world roof believ startl dozen thumb theyd movi'"
      ]
     },
     "execution_count": 16,
     "metadata": {},
     "output_type": "execute_result"
    }
   ],
   "source": [
    "df['review'][5]"
   ]
  },
  {
   "cell_type": "markdown",
   "id": "d1564e02-ce3f-449f-8734-bc88c36e6307",
   "metadata": {},
   "source": [
    "### Label Encoding"
   ]
  },
  {
   "cell_type": "code",
   "execution_count": 17,
   "id": "817e3acd-ad7e-4a2f-8e59-cc8bf3db4c7c",
   "metadata": {},
   "outputs": [
    {
     "data": {
      "text/html": [
       "<div>\n",
       "<style scoped>\n",
       "    .dataframe tbody tr th:only-of-type {\n",
       "        vertical-align: middle;\n",
       "    }\n",
       "\n",
       "    .dataframe tbody tr th {\n",
       "        vertical-align: top;\n",
       "    }\n",
       "\n",
       "    .dataframe thead th {\n",
       "        text-align: right;\n",
       "    }\n",
       "</style>\n",
       "<table border=\"1\" class=\"dataframe\">\n",
       "  <thead>\n",
       "    <tr style=\"text-align: right;\">\n",
       "      <th></th>\n",
       "      <th>review</th>\n",
       "      <th>sentiment</th>\n",
       "      <th>Token_review</th>\n",
       "    </tr>\n",
       "  </thead>\n",
       "  <tbody>\n",
       "    <tr>\n",
       "      <th>0</th>\n",
       "      <td>one review mention watch oz episod youll hook ...</td>\n",
       "      <td>1</td>\n",
       "      <td>[one, reviewers, mentioned, watching, oz, epis...</td>\n",
       "    </tr>\n",
       "    <tr>\n",
       "      <th>1</th>\n",
       "      <td>wonder littl product br br film techniqu unass...</td>\n",
       "      <td>1</td>\n",
       "      <td>[wonderful, little, production, br, br, filmin...</td>\n",
       "    </tr>\n",
       "    <tr>\n",
       "      <th>2</th>\n",
       "      <td>thought wonder way spend time hot summer weeke...</td>\n",
       "      <td>1</td>\n",
       "      <td>[thought, wonderful, way, spend, time, hot, su...</td>\n",
       "    </tr>\n",
       "    <tr>\n",
       "      <th>3</th>\n",
       "      <td>basic there famili littl boy jake think there ...</td>\n",
       "      <td>0</td>\n",
       "      <td>[basically, theres, family, little, boy, jake,...</td>\n",
       "    </tr>\n",
       "    <tr>\n",
       "      <th>4</th>\n",
       "      <td>petter mattei love time money visual stun film...</td>\n",
       "      <td>1</td>\n",
       "      <td>[petter, matteis, love, time, money, visually,...</td>\n",
       "    </tr>\n",
       "    <tr>\n",
       "      <th>...</th>\n",
       "      <td>...</td>\n",
       "      <td>...</td>\n",
       "      <td>...</td>\n",
       "    </tr>\n",
       "    <tr>\n",
       "      <th>49995</th>\n",
       "      <td>thought movi right good job wasnt creativ orig...</td>\n",
       "      <td>1</td>\n",
       "      <td>[thought, movie, right, good, job, wasnt, crea...</td>\n",
       "    </tr>\n",
       "    <tr>\n",
       "      <th>49996</th>\n",
       "      <td>bad plot bad dialogu bad act idiot direct anno...</td>\n",
       "      <td>0</td>\n",
       "      <td>[bad, plot, bad, dialogue, bad, acting, idioti...</td>\n",
       "    </tr>\n",
       "    <tr>\n",
       "      <th>49997</th>\n",
       "      <td>cathol taught parochi elementari school nun ta...</td>\n",
       "      <td>0</td>\n",
       "      <td>[catholic, taught, parochial, elementary, scho...</td>\n",
       "    </tr>\n",
       "    <tr>\n",
       "      <th>49998</th>\n",
       "      <td>im go disagre previou comment side maltin one ...</td>\n",
       "      <td>0</td>\n",
       "      <td>[im, going, disagree, previous, comment, side,...</td>\n",
       "    </tr>\n",
       "    <tr>\n",
       "      <th>49999</th>\n",
       "      <td>one expect star trek movi high art fan expect ...</td>\n",
       "      <td>0</td>\n",
       "      <td>[one, expects, star, trek, movies, high, art, ...</td>\n",
       "    </tr>\n",
       "  </tbody>\n",
       "</table>\n",
       "<p>50000 rows × 3 columns</p>\n",
       "</div>"
      ],
      "text/plain": [
       "                                                  review  sentiment  \\\n",
       "0      one review mention watch oz episod youll hook ...          1   \n",
       "1      wonder littl product br br film techniqu unass...          1   \n",
       "2      thought wonder way spend time hot summer weeke...          1   \n",
       "3      basic there famili littl boy jake think there ...          0   \n",
       "4      petter mattei love time money visual stun film...          1   \n",
       "...                                                  ...        ...   \n",
       "49995  thought movi right good job wasnt creativ orig...          1   \n",
       "49996  bad plot bad dialogu bad act idiot direct anno...          0   \n",
       "49997  cathol taught parochi elementari school nun ta...          0   \n",
       "49998  im go disagre previou comment side maltin one ...          0   \n",
       "49999  one expect star trek movi high art fan expect ...          0   \n",
       "\n",
       "                                            Token_review  \n",
       "0      [one, reviewers, mentioned, watching, oz, epis...  \n",
       "1      [wonderful, little, production, br, br, filmin...  \n",
       "2      [thought, wonderful, way, spend, time, hot, su...  \n",
       "3      [basically, theres, family, little, boy, jake,...  \n",
       "4      [petter, matteis, love, time, money, visually,...  \n",
       "...                                                  ...  \n",
       "49995  [thought, movie, right, good, job, wasnt, crea...  \n",
       "49996  [bad, plot, bad, dialogue, bad, acting, idioti...  \n",
       "49997  [catholic, taught, parochial, elementary, scho...  \n",
       "49998  [im, going, disagree, previous, comment, side,...  \n",
       "49999  [one, expects, star, trek, movies, high, art, ...  \n",
       "\n",
       "[50000 rows x 3 columns]"
      ]
     },
     "execution_count": 17,
     "metadata": {},
     "output_type": "execute_result"
    }
   ],
   "source": [
    "encoder = preprocessing.LabelEncoder()\n",
    "df[\"sentiment\"] = encoder.fit_transform(df['sentiment'])\n",
    "df"
   ]
  },
  {
   "cell_type": "code",
   "execution_count": null,
   "id": "b964da1b-239f-4865-b7b8-165a943da970",
   "metadata": {},
   "outputs": [],
   "source": []
  },
  {
   "cell_type": "code",
   "execution_count": 18,
   "id": "580ad5e0-da49-4023-bfb8-a7e5ab2a508c",
   "metadata": {},
   "outputs": [
    {
     "data": {
      "text/plain": [
       "review          0\n",
       "sentiment       0\n",
       "Token_review    0\n",
       "dtype: int64"
      ]
     },
     "execution_count": 18,
     "metadata": {},
     "output_type": "execute_result"
    }
   ],
   "source": [
    "df.isna().sum()"
   ]
  },
  {
   "cell_type": "code",
   "execution_count": 19,
   "id": "fb70a5b1-0f76-4bba-8661-d62ad8db5388",
   "metadata": {},
   "outputs": [
    {
     "data": {
      "text/plain": [
       "review          object\n",
       "sentiment        int32\n",
       "Token_review    object\n",
       "dtype: object"
      ]
     },
     "execution_count": 19,
     "metadata": {},
     "output_type": "execute_result"
    }
   ],
   "source": [
    "df.dtypes"
   ]
  },
  {
   "cell_type": "markdown",
   "id": "8cfea2d0-0d8a-422c-b712-36717fdb1f33",
   "metadata": {},
   "source": [
    "### Train-test-split"
   ]
  },
  {
   "cell_type": "code",
   "execution_count": 20,
   "id": "c61c7130-1ccb-4a66-ac02-4df09f966b9a",
   "metadata": {},
   "outputs": [],
   "source": [
    "\n",
    "x = df[\"review\"]\n",
    "y = df[\"sentiment\"]\n",
    "X_train,X_test, Y_train,Y_test= train_test_split(x,y, test_size = 0.25, random_state =42)"
   ]
  },
  {
   "cell_type": "code",
   "execution_count": 30,
   "id": "afe39041-76fb-4562-982a-e1ee506bf467",
   "metadata": {},
   "outputs": [
    {
     "data": {
      "text/plain": [
       "review          0\n",
       "sentiment       0\n",
       "Token_review    0\n",
       "dtype: int64"
      ]
     },
     "execution_count": 30,
     "metadata": {},
     "output_type": "execute_result"
    }
   ],
   "source": [
    "df.isnull().sum()"
   ]
  },
  {
   "cell_type": "code",
   "execution_count": 22,
   "id": "f9d06205-29c7-4ead-944a-8aa37c5643c4",
   "metadata": {},
   "outputs": [
    {
     "name": "stdout",
     "output_type": "stream",
     "text": [
      "(37500,) (37500,)\n",
      "(12500,) (12500,)\n"
     ]
    }
   ],
   "source": [
    "print(X_train.shape,Y_train.shape)\n",
    "print(X_test.shape,Y_test.shape)"
   ]
  },
  {
   "cell_type": "code",
   "execution_count": null,
   "id": "33aa91d4-d8e0-414e-9bcc-a72ab92eb4a7",
   "metadata": {},
   "outputs": [],
   "source": []
  },
  {
   "cell_type": "markdown",
   "id": "e8f36410-987c-44bb-985e-37a947985545",
   "metadata": {
    "tags": []
   },
   "source": [
    "### TF-IDF"
   ]
  },
  {
   "cell_type": "code",
   "execution_count": 23,
   "id": "9d89ad9d-95e2-4831-83bd-f1b6d5b2ecee",
   "metadata": {},
   "outputs": [
    {
     "data": {
      "text/plain": [
       "TfidfVectorizer()"
      ]
     },
     "execution_count": 23,
     "metadata": {},
     "output_type": "execute_result"
    }
   ],
   "source": [
    "\n",
    "tf_idf_word_vectorizer = TfidfVectorizer()\n",
    "tf_idf_word_vectorizer.fit(X_train)\n"
   ]
  },
  {
   "cell_type": "code",
   "execution_count": 24,
   "id": "97d3d038-814f-45a8-94a8-916b85bb46aa",
   "metadata": {},
   "outputs": [],
   "source": [
    "X_train_tf_idf_word = tf_idf_word_vectorizer.transform(X_train)\n",
    "X_test_tf_idf_word = tf_idf_word_vectorizer.transform(X_test)\n"
   ]
  },
  {
   "cell_type": "code",
   "execution_count": 25,
   "id": "e156bfeb-2384-4681-9ae4-15c9b3b2c87a",
   "metadata": {},
   "outputs": [],
   "source": [
    "def metrics():\n",
    "    print(\"Accuracy score: \",accuracy_score(Y_test,y_pred))\n",
    "    print(\"Precision score: \", precision_score(Y_test, y_pred))\n",
    "    print(\"Recall score: \", recall_score(Y_test,y_pred))\n",
    "    print(\"F-measure: \",f1_score(Y_test,y_pred))\n"
   ]
  },
  {
   "cell_type": "markdown",
   "id": "c73a5d29-d030-4b74-80d3-78e438ef7976",
   "metadata": {},
   "source": [
    "### Lojistik Regresyon"
   ]
  },
  {
   "cell_type": "code",
   "execution_count": 26,
   "id": "13541c55-4ad7-419f-a141-e2a007f5cd8c",
   "metadata": {},
   "outputs": [
    {
     "name": "stdout",
     "output_type": "stream",
     "text": [
      "Accuracy score:  0.89008\n",
      "Precision score:  0.8840624516926882\n",
      "Recall score:  0.9016238373009617\n",
      "F-measure:  0.8927567905088979\n",
      "Word-Level TF-IDF Doğruluk Oranı: 0.87752\n"
     ]
    }
   ],
   "source": [
    "loj = linear_model.LogisticRegression(penalty='l2',max_iter=500,C=1,random_state=42)\n",
    "loj_model = loj.fit(X_train_tf_idf_word,Y_train)\n",
    "cross_accuracy = model_selection.cross_val_score(loj_model, \n",
    "                                           X_test_tf_idf_word, \n",
    "                                           Y_test, \n",
    "                                           cv = 10).mean()\n",
    "y_pred =loj_model.predict(X_test_tf_idf_word)\n",
    "\n",
    "metrics()\n",
    "\n",
    "print(\"Word-Level TF-IDF Doğruluk Oranı:\", cross_accuracy)"
   ]
  },
  {
   "cell_type": "code",
   "execution_count": null,
   "id": "b78da641-a7ae-4e33-9bbd-25d18a4b499e",
   "metadata": {},
   "outputs": [],
   "source": []
  },
  {
   "cell_type": "markdown",
   "id": "c280beb0-74b2-4a7c-bbf2-525f4f96cda4",
   "metadata": {},
   "source": [
    "### Naive Bayes"
   ]
  },
  {
   "cell_type": "code",
   "execution_count": 27,
   "id": "feb96ffa-a429-4d21-95a2-c5b2e6345c99",
   "metadata": {},
   "outputs": [
    {
     "name": "stdout",
     "output_type": "stream",
     "text": [
      "Accuracy score:  0.8608\n",
      "Precision score:  0.8788477366255144\n",
      "Recall score:  0.8417152766829575\n",
      "F-measure:  0.8598808181671765\n",
      "Word-Level TF-IDF Doğruluk Oranı: 0.8540000000000001\n"
     ]
    }
   ],
   "source": [
    "nb = naive_bayes.MultinomialNB()\n",
    "nb_model = nb.fit(X_train_tf_idf_word,Y_train)\n",
    "cross_accuracy = model_selection.cross_val_score(nb_model, \n",
    "                                           X_test_tf_idf_word, \n",
    "                                           Y_test, \n",
    "                                           cv = 10).mean()\n",
    "y_pred =nb_model.predict(X_test_tf_idf_word)\n",
    "\n",
    "metrics()\n",
    "\n",
    "print(\"Word-Level TF-IDF Doğruluk Oranı:\", cross_accuracy)"
   ]
  },
  {
   "cell_type": "markdown",
   "id": "508b5384-5543-43f4-96a7-82012b763e57",
   "metadata": {},
   "source": [
    "### Random Forest"
   ]
  },
  {
   "cell_type": "code",
   "execution_count": 28,
   "id": "1ec1b448-2441-4f7e-b68e-13dcc5ab4262",
   "metadata": {},
   "outputs": [
    {
     "name": "stdout",
     "output_type": "stream",
     "text": [
      "Accuracy score:  0.7876\n",
      "Precision score:  0.7989623865110247\n",
      "Recall score:  0.7769194387513795\n",
      "F-measure:  0.7877867476620575\n",
      "Word-Level TF-IDF Doğruluk Oranı: 0.73168\n"
     ]
    }
   ],
   "source": [
    "rf = ensemble.RandomForestClassifier(random_state = 42,max_depth = 3)\n",
    "rf_model = rf.fit(X_train_tf_idf_word,Y_train)\n",
    "cross_accuracy = model_selection.cross_val_score(rf_model, \n",
    "                                           X_test_tf_idf_word, \n",
    "                                           Y_test, \n",
    "                                           cv = 10).mean()\n",
    "y_pred =rf_model.predict(X_test_tf_idf_word)\n",
    "\n",
    "metrics()\n",
    "\n",
    "print(\"Word-Level TF-IDF Doğruluk Oranı:\", cross_accuracy)"
   ]
  },
  {
   "cell_type": "markdown",
   "id": "94391c62-736b-496e-9270-87b8aa1f3b3b",
   "metadata": {},
   "source": [
    "### XGBoost"
   ]
  },
  {
   "cell_type": "code",
   "execution_count": 29,
   "id": "9dc1a1f1-a12e-42df-81f0-ca661e0cddeb",
   "metadata": {},
   "outputs": [
    {
     "name": "stdout",
     "output_type": "stream",
     "text": [
      "Accuracy score:  0.85592\n",
      "Precision score:  0.8497074222359101\n",
      "Recall score:  0.8699353618161753\n",
      "F-measure:  0.8597024226844279\n",
      "Word-Level TF-IDF Doğruluk Oranı: 0.8384\n"
     ]
    }
   ],
   "source": [
    "xgb = xgboost.XGBClassifier()\n",
    "xgb_model = xgb.fit(X_train_tf_idf_word,Y_train)\n",
    "cross_accuracy = model_selection.cross_val_score(xgb_model, \n",
    "                                           X_test_tf_idf_word, \n",
    "                                           Y_test, \n",
    "                                           cv = 10).mean()\n",
    "y_pred =xgb_model.predict(X_test_tf_idf_word)\n",
    "\n",
    "metrics()\n",
    "\n",
    "\n",
    "print(\"Word-Level TF-IDF Doğruluk Oranı:\", cross_accuracy)"
   ]
  },
  {
   "cell_type": "code",
   "execution_count": null,
   "id": "073e0b7e-ab49-41f6-ba02-912d1fc7b566",
   "metadata": {},
   "outputs": [],
   "source": []
  },
  {
   "cell_type": "code",
   "execution_count": null,
   "id": "62310263-7a12-4284-be2f-8276e9c3859b",
   "metadata": {},
   "outputs": [],
   "source": []
  },
  {
   "cell_type": "code",
   "execution_count": null,
   "id": "f5afdc3a-9169-4dff-b3f9-00c340a173e3",
   "metadata": {},
   "outputs": [],
   "source": []
  }
 ],
 "metadata": {
  "kernelspec": {
   "display_name": "Python 3 (ipykernel)",
   "language": "python",
   "name": "python3"
  },
  "language_info": {
   "codemirror_mode": {
    "name": "ipython",
    "version": 3
   },
   "file_extension": ".py",
   "mimetype": "text/x-python",
   "name": "python",
   "nbconvert_exporter": "python",
   "pygments_lexer": "ipython3",
   "version": "3.9.12"
  }
 },
 "nbformat": 4,
 "nbformat_minor": 5
}
